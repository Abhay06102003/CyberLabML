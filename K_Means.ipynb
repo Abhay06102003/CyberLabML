{
  "cells": [
    {
      "cell_type": "code",
      "execution_count": null,
      "metadata": {
        "id": "kVTiB2Zmt-TQ"
      },
      "outputs": [],
      "source": [
        "import numpy as np\n",
        "import pandas as pd\n",
        "import matplotlib.pyplot as plt\n",
        "%matplotlib inline"
      ]
    },
    {
      "cell_type": "code",
      "execution_count": null,
      "metadata": {
        "id": "EWGZvaDcuLzz"
      },
      "outputs": [],
      "source": [
        "def dist(x,c):\n",
        "  return np.sqrt(np.sum(((x-c)**2),axis=1))\n",
        "def Euclidean_Dist(x,X):\n",
        "  return np.sqrt(np.sum((x - X)**2))\n",
        "def initialize_cent(X,K):\n",
        "  centroids = np.zeros((K,X.shape[1]))\n",
        "  for i in range(K):\n",
        "    centroid = X[np.random.choice(range(X.shape[0]))]\n",
        "    centroids[i] = centroid\n",
        "  return centroids\n",
        "def compute_distance(X,centroids,K):\n",
        "  clusters = [[] for _ in range(K)]\n",
        "  for idx,point in enumerate(X):\n",
        "    closest_cent = np.argmin(dist(point,centroids))\n",
        "    clusters[closest_cent].append(idx)\n",
        "  #print(clusters)\n",
        "  return clusters\n",
        "def compute_cluster(X,clusters,K,centroids):\n",
        "  for idx,cluster in enumerate(clusters):\n",
        "    new_centroid = X[cluster].mean(axis = 0)\n",
        "    centroids[idx] = new_centroid\n",
        "  return centroids\n",
        "def pred(clusters,X):\n",
        "  ypred = np.zeros((X.shape[0],1))\n",
        "  for idx,cluster in enumerate(clusters):\n",
        "    for sample_idx in cluster:\n",
        "      ypred[sample_idx] = idx\n",
        "  return ypred\n",
        "def KMean(X,K,no_iter):\n",
        "  centroids = initialize_cent(X,K)\n",
        "  clusters = [[] for _ in range(K)]\n",
        "  for i in range(no_iter):\n",
        "    clusters = compute_distance(X,centroids,K)\n",
        "    centroids = compute_cluster(X,clusters,K,centroids)\n",
        "    if i%(no_iter/10)==0:\n",
        "      print(i,\"iterations Done!\")\n",
        "  return clusters,centroids\n",
        "def test(x,clusters):\n",
        "  ytest = pred(clusters,x)\n",
        "  return ytest\n",
        "\n",
        "\n",
        "\n"
      ]
    },
    {
      "cell_type": "code",
      "execution_count": null,
      "metadata": {
        "id": "ijtnvWA9jwmW"
      },
      "outputs": [],
      "source": [
        "def KNN(X,y,x,K):\n",
        "  m = X.shape[1]\n",
        "  val = []\n",
        "  for i in range(m):\n",
        "    dist1 = Euclidean_Dist(x,X[i])\n",
        "    val.append((dist1,y[i]))\n",
        "  val = sorted(val,key = lambda x:x[0])[:K]\n",
        "  val = np.array(val)\n",
        "  new_val = np.unique(val[:,1],return_counts= True)\n",
        "  index = new_val[1].argmax()\n",
        "  output = new_val[0][index]\n",
        "  return output\n",
        "\n"
      ]
    },
    {
      "cell_type": "code",
      "execution_count": null,
      "metadata": {
        "id": "0DovRISK2dzt"
      },
      "outputs": [],
      "source": [
        "dftest = pd.read_csv('emnist-letters-test.csv')\n",
        "dftest1 = pd.read_csv('emnist-letters-test.csv')\n",
        "dftest1.drop(columns = ['1'],inplace = True)\n",
        "dftrain = pd.read_csv('emnist-letters-train.csv')\n",
        "dftrain1 = pd.read_csv('emnist-letters-train.csv')\n",
        "dftrain1.drop(columns=['23'],inplace = True)"
      ]
    },
    {
      "cell_type": "code",
      "execution_count": null,
      "metadata": {
        "colab": {
          "base_uri": "https://localhost:8080/"
        },
        "id": "wMYMUrBA4brj",
        "outputId": "cd2367e6-a458-4f94-cd0e-2c8f4401c129"
      },
      "outputs": [
        {
          "data": {
            "text/plain": [
              "array([ 7, 16, 15, ...,  7,  5,  2])"
            ]
          },
          "execution_count": 5,
          "metadata": {},
          "output_type": "execute_result"
        }
      ],
      "source": [
        "x = []\n",
        "for i in range(14799):\n",
        "  a = dftest1.loc[i]\n",
        "  x.append(a)\n",
        "x = np.array(x)\n",
        "ytest = np.array(dftest['1'])\n",
        "X = []\n",
        "for i in range(14799):\n",
        "  a = dftrain1.loc[i]\n",
        "  X.append(a)\n",
        "X = np.array(X)\n",
        "y = np.array(dftrain['23'])\n",
        "y"
      ]
    },
    {
      "cell_type": "code",
      "execution_count": null,
      "metadata": {
        "colab": {
          "background_save": true,
          "base_uri": "https://localhost:8080/"
        },
        "id": "iBI-GHaJ5SQh",
        "outputId": "79f5902b-7ce0-4e8b-909f-4491fc6f5af9"
      },
      "outputs": [
        {
          "name": "stdout",
          "output_type": "stream",
          "text": [
            "0 iterations Done!\n",
            "1000 iterations Done!\n",
            "2000 iterations Done!\n",
            "3000 iterations Done!\n",
            "4000 iterations Done!\n",
            "5000 iterations Done!\n",
            "6000 iterations Done!\n",
            "7000 iterations Done!\n",
            "8000 iterations Done!\n",
            "9000 iterations Done!\n"
          ]
        }
      ],
      "source": [
        "clust,cent = KMean(x,26,10000)"
      ]
    },
    {
      "cell_type": "code",
      "execution_count": null,
      "metadata": {
        "colab": {
          "background_save": true
        },
        "id": "o5Ic5yDwl3bZ",
        "outputId": "28df9258-484d-48e1-a0be-16eb588936e4"
      },
      "outputs": [
        {
          "data": {
            "text/plain": [
              "[7.0,\n",
              " 3.0,\n",
              " 12.0,\n",
              " 9.0,\n",
              " 18.0,\n",
              " 16.0,\n",
              " 3.0,\n",
              " 9.0,\n",
              " 15.0,\n",
              " 19.0,\n",
              " 8.0,\n",
              " 8.0,\n",
              " 18.0,\n",
              " 13.0,\n",
              " 4.0,\n",
              " 3.0,\n",
              " 6.0,\n",
              " 14.0,\n",
              " 11.0,\n",
              " 15.0,\n",
              " 6.0,\n",
              " 2.0,\n",
              " 9.0,\n",
              " 4.0,\n",
              " 3.0,\n",
              " 13.0]"
            ]
          },
          "execution_count": null,
          "metadata": {},
          "output_type": "execute_result"
        }
      ],
      "source": [
        "outs = []\n",
        "for x_row in cent:\n",
        "  output = KNN(X,y,x_row,8)\n",
        "  outs.append(output)\n",
        "outs"
      ]
    },
    {
      "cell_type": "code",
      "execution_count": null,
      "metadata": {
        "colab": {
          "background_save": true
        },
        "id": "4KXzU7v5l3XA",
        "outputId": "f94083e8-3300-49a8-8ac4-3697a4309cb8"
      },
      "outputs": [
        {
          "data": {
            "text/html": [
              "\n",
              "  <div id=\"df-53701fdc-da6c-467d-9595-0bc062b2803c\">\n",
              "    <div class=\"colab-df-container\">\n",
              "      <div>\n",
              "<style scoped>\n",
              "    .dataframe tbody tr th:only-of-type {\n",
              "        vertical-align: middle;\n",
              "    }\n",
              "\n",
              "    .dataframe tbody tr th {\n",
              "        vertical-align: top;\n",
              "    }\n",
              "\n",
              "    .dataframe thead th {\n",
              "        text-align: right;\n",
              "    }\n",
              "</style>\n",
              "<table border=\"1\" class=\"dataframe\">\n",
              "  <thead>\n",
              "    <tr style=\"text-align: right;\">\n",
              "      <th></th>\n",
              "      <th>0</th>\n",
              "    </tr>\n",
              "  </thead>\n",
              "  <tbody>\n",
              "    <tr>\n",
              "      <th>0</th>\n",
              "      <td>6.0</td>\n",
              "    </tr>\n",
              "    <tr>\n",
              "      <th>1</th>\n",
              "      <td>3.0</td>\n",
              "    </tr>\n",
              "    <tr>\n",
              "      <th>2</th>\n",
              "      <td>3.0</td>\n",
              "    </tr>\n",
              "    <tr>\n",
              "      <th>3</th>\n",
              "      <td>7.0</td>\n",
              "    </tr>\n",
              "    <tr>\n",
              "      <th>4</th>\n",
              "      <td>6.0</td>\n",
              "    </tr>\n",
              "    <tr>\n",
              "      <th>...</th>\n",
              "      <td>...</td>\n",
              "    </tr>\n",
              "    <tr>\n",
              "      <th>14794</th>\n",
              "      <td>9.0</td>\n",
              "    </tr>\n",
              "    <tr>\n",
              "      <th>14795</th>\n",
              "      <td>3.0</td>\n",
              "    </tr>\n",
              "    <tr>\n",
              "      <th>14796</th>\n",
              "      <td>19.0</td>\n",
              "    </tr>\n",
              "    <tr>\n",
              "      <th>14797</th>\n",
              "      <td>4.0</td>\n",
              "    </tr>\n",
              "    <tr>\n",
              "      <th>14798</th>\n",
              "      <td>9.0</td>\n",
              "    </tr>\n",
              "  </tbody>\n",
              "</table>\n",
              "<p>14799 rows × 1 columns</p>\n",
              "</div>\n",
              "      <button class=\"colab-df-convert\" onclick=\"convertToInteractive('df-53701fdc-da6c-467d-9595-0bc062b2803c')\"\n",
              "              title=\"Convert this dataframe to an interactive table.\"\n",
              "              style=\"display:none;\">\n",
              "        \n",
              "  <svg xmlns=\"http://www.w3.org/2000/svg\" height=\"24px\"viewBox=\"0 0 24 24\"\n",
              "       width=\"24px\">\n",
              "    <path d=\"M0 0h24v24H0V0z\" fill=\"none\"/>\n",
              "    <path d=\"M18.56 5.44l.94 2.06.94-2.06 2.06-.94-2.06-.94-.94-2.06-.94 2.06-2.06.94zm-11 1L8.5 8.5l.94-2.06 2.06-.94-2.06-.94L8.5 2.5l-.94 2.06-2.06.94zm10 10l.94 2.06.94-2.06 2.06-.94-2.06-.94-.94-2.06-.94 2.06-2.06.94z\"/><path d=\"M17.41 7.96l-1.37-1.37c-.4-.4-.92-.59-1.43-.59-.52 0-1.04.2-1.43.59L10.3 9.45l-7.72 7.72c-.78.78-.78 2.05 0 2.83L4 21.41c.39.39.9.59 1.41.59.51 0 1.02-.2 1.41-.59l7.78-7.78 2.81-2.81c.8-.78.8-2.07 0-2.86zM5.41 20L4 18.59l7.72-7.72 1.47 1.35L5.41 20z\"/>\n",
              "  </svg>\n",
              "      </button>\n",
              "      \n",
              "  <style>\n",
              "    .colab-df-container {\n",
              "      display:flex;\n",
              "      flex-wrap:wrap;\n",
              "      gap: 12px;\n",
              "    }\n",
              "\n",
              "    .colab-df-convert {\n",
              "      background-color: #E8F0FE;\n",
              "      border: none;\n",
              "      border-radius: 50%;\n",
              "      cursor: pointer;\n",
              "      display: none;\n",
              "      fill: #1967D2;\n",
              "      height: 32px;\n",
              "      padding: 0 0 0 0;\n",
              "      width: 32px;\n",
              "    }\n",
              "\n",
              "    .colab-df-convert:hover {\n",
              "      background-color: #E2EBFA;\n",
              "      box-shadow: 0px 1px 2px rgba(60, 64, 67, 0.3), 0px 1px 3px 1px rgba(60, 64, 67, 0.15);\n",
              "      fill: #174EA6;\n",
              "    }\n",
              "\n",
              "    [theme=dark] .colab-df-convert {\n",
              "      background-color: #3B4455;\n",
              "      fill: #D2E3FC;\n",
              "    }\n",
              "\n",
              "    [theme=dark] .colab-df-convert:hover {\n",
              "      background-color: #434B5C;\n",
              "      box-shadow: 0px 1px 3px 1px rgba(0, 0, 0, 0.15);\n",
              "      filter: drop-shadow(0px 1px 2px rgba(0, 0, 0, 0.3));\n",
              "      fill: #FFFFFF;\n",
              "    }\n",
              "  </style>\n",
              "\n",
              "      <script>\n",
              "        const buttonEl =\n",
              "          document.querySelector('#df-53701fdc-da6c-467d-9595-0bc062b2803c button.colab-df-convert');\n",
              "        buttonEl.style.display =\n",
              "          google.colab.kernel.accessAllowed ? 'block' : 'none';\n",
              "\n",
              "        async function convertToInteractive(key) {\n",
              "          const element = document.querySelector('#df-53701fdc-da6c-467d-9595-0bc062b2803c');\n",
              "          const dataTable =\n",
              "            await google.colab.kernel.invokeFunction('convertToInteractive',\n",
              "                                                     [key], {});\n",
              "          if (!dataTable) return;\n",
              "\n",
              "          const docLinkHtml = 'Like what you see? Visit the ' +\n",
              "            '<a target=\"_blank\" href=https://colab.research.google.com/notebooks/data_table.ipynb>data table notebook</a>'\n",
              "            + ' to learn more about interactive tables.';\n",
              "          element.innerHTML = '';\n",
              "          dataTable['output_type'] = 'display_data';\n",
              "          await google.colab.output.renderOutput(dataTable, element);\n",
              "          const docLink = document.createElement('div');\n",
              "          docLink.innerHTML = docLinkHtml;\n",
              "          element.appendChild(docLink);\n",
              "        }\n",
              "      </script>\n",
              "    </div>\n",
              "  </div>\n",
              "  "
            ],
            "text/plain": [
              "          0\n",
              "0       6.0\n",
              "1       3.0\n",
              "2       3.0\n",
              "3       7.0\n",
              "4       6.0\n",
              "...     ...\n",
              "14794   9.0\n",
              "14795   3.0\n",
              "14796  19.0\n",
              "14797   4.0\n",
              "14798   9.0\n",
              "\n",
              "[14799 rows x 1 columns]"
            ]
          },
          "execution_count": null,
          "metadata": {},
          "output_type": "execute_result"
        }
      ],
      "source": [
        "ypred = np.zeros((X.shape[0],1))\n",
        "for idx,cluster in enumerate(clust):\n",
        "  for sample_idx in cluster:\n",
        "    ypred[sample_idx] = outs[idx]\n",
        "dfpred = pd.DataFrame(ypred)\n",
        "dfpred"
      ]
    },
    {
      "cell_type": "code",
      "execution_count": null,
      "metadata": {
        "colab": {
          "background_save": true
        },
        "id": "uMxeayCcqGJb",
        "outputId": "27ef3033-beae-4757-c750-df61832f4234"
      },
      "outputs": [
        {
          "data": {
            "text/plain": [
              "37.77957970133117"
            ]
          },
          "execution_count": null,
          "metadata": {},
          "output_type": "execute_result"
        }
      ],
      "source": [
        "correct = 0\n",
        "for i in range(x.shape[0]):\n",
        "  if(ypred[i] == ytest[i]):\n",
        "    correct += 1\n",
        "(correct/14799)*100"
      ]
    }
  ],
  "metadata": {
    "colab": {
      "collapsed_sections": [],
      "name": "Copy of K-Means.ipynb",
      "provenance": []
    },
    "kernelspec": {
      "display_name": "Python 3",
      "name": "python3"
    },
    "language_info": {
      "name": "python"
    }
  },
  "nbformat": 4,
  "nbformat_minor": 0
}