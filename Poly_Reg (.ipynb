{
  "nbformat": 4,
  "nbformat_minor": 0,
  "metadata": {
    "colab": {
      "name": "Poly_Reg.ipynb",
      "provenance": []
    },
    "kernelspec": {
      "name": "python3",
      "display_name": "Python 3"
    },
    "language_info": {
      "name": "python"
    }
  },
  "cells": [
    {
      "cell_type": "code",
      "execution_count": 50,
      "metadata": {
        "id": "tVJU5tniDB9B"
      },
      "outputs": [],
      "source": [
        "import numpy as np\n",
        "import pandas as pd\n",
        "import matplotlib.pyplot as plt\n"
      ]
    },
    {
      "cell_type": "code",
      "source": [
        "def pro(x,y):\n",
        "  return(np.dot(x,y))\n",
        "def RMSE(y,y_pred):\n",
        "  s = np.mean((y-y_pred)**2)\n",
        "  return(np.sqrt(s))\n",
        "def normalization(X2):\n",
        "  X1 = []\n",
        "  for x in X2.T[:]:\n",
        "    x = (x - x.mean())/(np.std(x)+1)\n",
        "    X1.append(x)\n",
        "  X1 = np.array(X1)\n",
        "  X1 = X1.T\n",
        "  return X1"
      ],
      "metadata": {
        "id": "tlmV9bDnTSE3"
      },
      "execution_count": 51,
      "outputs": []
    },
    {
      "cell_type": "code",
      "source": [
        "def split(Df):\n",
        "  train = Df.to_numpy()\n",
        "  x = train[:,1:4]\n",
        "  m= np.shape(x)[0] \n",
        "  x = np.concatenate((np.ones((m,1)),x),axis =1)\n",
        "  n = np.shape(x)[1]\n",
        "  y = train[:,4] \n",
        "  y = y.reshape((m,1))\n",
        "  xd = x\n",
        "  \n",
        "  for i in range(1,4):\n",
        "    for j in range(i,4):\n",
        "        s = ((xd[:,i])*(xd[:,j]))\n",
        "        cube_term = (s*xd[:,j])\n",
        "        s = s.reshape((m,1))\n",
        "        cube_term = cube_term.reshape((m,1))\n",
        "        poly = np.concatenate((s,cube_term),axis=1)\n",
        "        x = np.concatenate((x,poly),axis=1)\n",
        "  n = np.shape(x)[1]\n",
        "  x = normalization(normalization(x))\n",
        "  \n",
        "  return x,y\n",
        "\n",
        "\n"
      ],
      "metadata": {
        "id": "JNPyhv-vTSfc"
      },
      "execution_count": 52,
      "outputs": []
    },
    {
      "cell_type": "code",
      "source": [
        "def grad(x,y,alpha,no_iter):\n",
        "  m,n = np.shape(x)\n",
        "  theta = np.zeros((n,1))\n",
        "  J_s,x_label =[],[]\n",
        "  for i in range(no_iter):\n",
        "    hyp = pro(x,theta)\n",
        "    J = (1/(2*m))*(np.sum((hyp-y)**2))\n",
        "    J_s.append(J)\n",
        "    x_label.append(i+1)\n",
        "    grad = (1/m)*pro(x.T,(hyp-y))\n",
        "    theta -= alpha*grad\n",
        "    if i%(no_iter/10)==0:\n",
        "      print('cost after ',i,'iterations is',J)\n",
        "  plt.plot(x_label,J_s)\n",
        "  return theta\n"
      ],
      "metadata": {
        "id": "z_kVHK5pfgsd"
      },
      "execution_count": 53,
      "outputs": []
    },
    {
      "cell_type": "code",
      "source": [
        "dftrain = pd.read_csv(\"Polynomial_train.csv\")\n",
        "x, y = split(dftrain)\n",
        "theta = grad(x,y,0.05,10000)"
      ],
      "metadata": {
        "colab": {
          "base_uri": "https://localhost:8080/",
          "height": 447
        },
        "id": "cNpMnXu1UoIo",
        "outputId": "458972f9-cd2a-4406-ba99-94c0c977fe51"
      },
      "execution_count": 54,
      "outputs": [
        {
          "output_type": "stream",
          "name": "stdout",
          "text": [
            "cost after  0 iterations is 727060.5592130942\n",
            "cost after  1000 iterations is 126.27778442268325\n",
            "cost after  2000 iterations is 125.17500702126704\n",
            "cost after  3000 iterations is 125.10739786665063\n",
            "cost after  4000 iterations is 125.10299329327417\n",
            "cost after  5000 iterations is 125.10267129876976\n",
            "cost after  6000 iterations is 125.10264306142669\n",
            "cost after  7000 iterations is 125.10264002383879\n",
            "cost after  8000 iterations is 125.10263964115914\n",
            "cost after  9000 iterations is 125.10263958840603\n"
          ]
        },
        {
          "output_type": "display_data",
          "data": {
            "text/plain": [
              "<Figure size 432x288 with 1 Axes>"
            ],
            "image/png": "[encoded data removed]"
          },
          "metadata": {
            "needs_background": "light"
          }
        }
      ]
    },
    {
      "cell_type": "code",
      "source": [
        "dftest = pd.read_csv(\"Polynomial_test.csv\")\n",
        "xtest,ytest = split(dftest)\n",
        "ypred = pro(xtest,theta)\n",
        "dftest\n"
      ],
      "metadata": {
        "colab": {
          "base_uri": "https://localhost:8080/",
          "height": 424
        },
        "id": "cZmIC99XhoB-",
        "outputId": "a1d32e63-41b6-471a-fee5-38b5dac04ba4"
      },
      "execution_count": 55,
      "outputs": [
        {
          "output_type": "execute_result",
          "data": {
            "text/plain": [
              "      Unnamed: 0         X         Y         Z        label\n",
              "0              0  9.322078  0.413096  5.984731  -657.669309\n",
              "1              1  2.811964  6.142752  6.419237  -545.362524\n",
              "2              2 -2.669784  7.775091 -6.931907   -75.044187\n",
              "3              3 -6.992156 -9.205548  0.852580 -2403.124902\n",
              "4              4  1.574294 -2.213266  6.029188     8.595325\n",
              "...          ...       ...       ...       ...          ...\n",
              "9995        9995 -0.992449 -7.853677  7.748156  -635.006038\n",
              "9996        9996  8.574451  6.271919 -5.734962 -1275.855209\n",
              "9997        9997  6.640997  6.864877  4.511685 -1771.640694\n",
              "9998        9998 -6.262414  1.323203 -3.917748   -22.746921\n",
              "9999        9999  8.289792 -0.371541  2.099039   -64.853446\n",
              "\n",
              "[10000 rows x 5 columns]"
            ],
            "text/html": [
              "\n",
              "  <div id=\"df-9c3dee49-73de-4847-accd-93da22e9d8bd\">\n",
              "    <div class=\"colab-df-container\">\n",
              "      <div>\n",
              "<style scoped>\n",
              "    .dataframe tbody tr th:only-of-type {\n",
              "        vertical-align: middle;\n",
              "    }\n",
              "\n",
              "    .dataframe tbody tr th {\n",
              "        vertical-align: top;\n",
              "    }\n",
              "\n",
              "    .dataframe thead th {\n",
              "        text-align: right;\n",
              "    }\n",
              "</style>\n",
              "<table border=\"1\" class=\"dataframe\">\n",
              "  <thead>\n",
              "    <tr style=\"text-align: right;\">\n",
              "      <th></th>\n",
              "      <th>Unnamed: 0</th>\n",
              "      <th>X</th>\n",
              "      <th>Y</th>\n",
              "      <th>Z</th>\n",
              "      <th>label</th>\n",
              "    </tr>\n",
              "  </thead>\n",
              "  <tbody>\n",
              "    <tr>\n",
              "      <th>0</th>\n",
              "      <td>0</td>\n",
              "      <td>9.322078</td>\n",
              "      <td>0.413096</td>\n",
              "      <td>5.984731</td>\n",
              "      <td>-657.669309</td>\n",
              "    </tr>\n",
              "    <tr>\n",
              "      <th>1</th>\n",
              "      <td>1</td>\n",
              "      <td>2.811964</td>\n",
              "      <td>6.142752</td>\n",
              "      <td>6.419237</td>\n",
              "      <td>-545.362524</td>\n",
              "    </tr>\n",
              "    <tr>\n",
              "      <th>2</th>\n",
              "      <td>2</td>\n",
              "      <td>-2.669784</td>\n",
              "      <td>7.775091</td>\n",
              "      <td>-6.931907</td>\n",
              "      <td>-75.044187</td>\n",
              "    </tr>\n",
              "    <tr>\n",
              "      <th>3</th>\n",
              "      <td>3</td>\n",
              "      <td>-6.992156</td>\n",
              "      <td>-9.205548</td>\n",
              "      <td>0.852580</td>\n",
              "      <td>-2403.124902</td>\n",
              "    </tr>\n",
              "    <tr>\n",
              "      <th>4</th>\n",
              "      <td>4</td>\n",
              "      <td>1.574294</td>\n",
              "      <td>-2.213266</td>\n",
              "      <td>6.029188</td>\n",
              "      <td>8.595325</td>\n",
              "    </tr>\n",
              "    <tr>\n",
              "      <th>...</th>\n",
              "      <td>...</td>\n",
              "      <td>...</td>\n",
              "      <td>...</td>\n",
              "      <td>...</td>\n",
              "      <td>...</td>\n",
              "    </tr>\n",
              "    <tr>\n",
              "      <th>9995</th>\n",
              "      <td>9995</td>\n",
              "      <td>-0.992449</td>\n",
              "      <td>-7.853677</td>\n",
              "      <td>7.748156</td>\n",
              "      <td>-635.006038</td>\n",
              "    </tr>\n",
              "    <tr>\n",
              "      <th>9996</th>\n",
              "      <td>9996</td>\n",
              "      <td>8.574451</td>\n",
              "      <td>6.271919</td>\n",
              "      <td>-5.734962</td>\n",
              "      <td>-1275.855209</td>\n",
              "    </tr>\n",
              "    <tr>\n",
              "      <th>9997</th>\n",
              "      <td>9997</td>\n",
              "      <td>6.640997</td>\n",
              "      <td>6.864877</td>\n",
              "      <td>4.511685</td>\n",
              "      <td>-1771.640694</td>\n",
              "    </tr>\n",
              "    <tr>\n",
              "      <th>9998</th>\n",
              "      <td>9998</td>\n",
              "      <td>-6.262414</td>\n",
              "      <td>1.323203</td>\n",
              "      <td>-3.917748</td>\n",
              "      <td>-22.746921</td>\n",
              "    </tr>\n",
              "    <tr>\n",
              "      <th>9999</th>\n",
              "      <td>9999</td>\n",
              "      <td>8.289792</td>\n",
              "      <td>-0.371541</td>\n",
              "      <td>2.099039</td>\n",
              "      <td>-64.853446</td>\n",
              "    </tr>\n",
              "  </tbody>\n",
              "</table>\n",
              "<p>10000 rows × 5 columns</p>\n",
              "</div>\n",
              "      <button class=\"colab-df-convert\" onclick=\"convertToInteractive('df-9c3dee49-73de-4847-accd-93da22e9d8bd')\"\n",
              "              title=\"Convert this dataframe to an interactive table.\"\n",
              "              style=\"display:none;\">\n",
              "        \n",
              "  <svg xmlns=\"http://www.w3.org/2000/svg\" height=\"24px\"viewBox=\"0 0 24 24\"\n",
              "       width=\"24px\">\n",
              "    <path d=\"M0 0h24v24H0V0z\" fill=\"none\"/>\n",
              "    <path d=\"M18.56 5.44l.94 2.06.94-2.06 2.06-.94-2.06-.94-.94-2.06-.94 2.06-2.06.94zm-11 1L8.5 8.5l.94-2.06 2.06-.94-2.06-.94L8.5 2.5l-.94 2.06-2.06.94zm10 10l.94 2.06.94-2.06 2.06-.94-2.06-.94-.94-2.06-.94 2.06-2.06.94z\"/><path d=\"M17.41 7.96l-1.37-1.37c-.4-.4-.92-.59-1.43-.59-.52 0-1.04.2-1.43.59L10.3 9.45l-7.72 7.72c-.78.78-.78 2.05 0 2.83L4 21.41c.39.39.9.59 1.41.59.51 0 1.02-.2 1.41-.59l7.78-7.78 2.81-2.81c.8-.78.8-2.07 0-2.86zM5.41 20L4 18.59l7.72-7.72 1.47 1.35L5.41 20z\"/>\n",
              "  </svg>\n",
              "      </button>\n",
              "      \n",
              "  <style>\n",
              "    .colab-df-container {\n",
              "      display:flex;\n",
              "      flex-wrap:wrap;\n",
              "      gap: 12px;\n",
              "    }\n",
              "\n",
              "    .colab-df-convert {\n",
              "      background-color: #E8F0FE;\n",
              "      border: none;\n",
              "      border-radius: 50%;\n",
              "      cursor: pointer;\n",
              "      display: none;\n",
              "      fill: #1967D2;\n",
              "      height: 32px;\n",
              "      padding: 0 0 0 0;\n",
              "      width: 32px;\n",
              "    }\n",
              "\n",
              "    .colab-df-convert:hover {\n",
              "      background-color: #E2EBFA;\n",
              "      box-shadow: 0px 1px 2px rgba(60, 64, 67, 0.3), 0px 1px 3px 1px rgba(60, 64, 67, 0.15);\n",
              "      fill: #174EA6;\n",
              "    }\n",
              "\n",
              "    [theme=dark] .colab-df-convert {\n",
              "      background-color: #3B4455;\n",
              "      fill: #D2E3FC;\n",
              "    }\n",
              "\n",
              "    [theme=dark] .colab-df-convert:hover {\n",
              "      background-color: #434B5C;\n",
              "      box-shadow: 0px 1px 3px 1px rgba(0, 0, 0, 0.15);\n",
              "      filter: drop-shadow(0px 1px 2px rgba(0, 0, 0, 0.3));\n",
              "      fill: #FFFFFF;\n",
              "    }\n",
              "  </style>\n",
              "\n",
              "      <script>\n",
              "        const buttonEl =\n",
              "          document.querySelector('#df-9c3dee49-73de-4847-accd-93da22e9d8bd button.colab-df-convert');\n",
              "        buttonEl.style.display =\n",
              "          google.colab.kernel.accessAllowed ? 'block' : 'none';\n",
              "\n",
              "        async function convertToInteractive(key) {\n",
              "          const element = document.querySelector('#df-9c3dee49-73de-4847-accd-93da22e9d8bd');\n",
              "          const dataTable =\n",
              "            await google.colab.kernel.invokeFunction('convertToInteractive',\n",
              "                                                     [key], {});\n",
              "          if (!dataTable) return;\n",
              "\n",
              "          const docLinkHtml = 'Like what you see? Visit the ' +\n",
              "            '<a target=\"_blank\" href=https://colab.research.google.com/notebooks/data_table.ipynb>data table notebook</a>'\n",
              "            + ' to learn more about interactive tables.';\n",
              "          element.innerHTML = '';\n",
              "          dataTable['output_type'] = 'display_data';\n",
              "          await google.colab.output.renderOutput(dataTable, element);\n",
              "          const docLink = document.createElement('div');\n",
              "          docLink.innerHTML = docLinkHtml;\n",
              "          element.appendChild(docLink);\n",
              "        }\n",
              "      </script>\n",
              "    </div>\n",
              "  </div>\n",
              "  "
            ]
          },
          "metadata": {},
          "execution_count": 55
        }
      ]
    },
    {
      "cell_type": "code",
      "source": [
        "print(RMSE(ytest,ypred))\n",
        "y_pred"
      ],
      "metadata": {
        "colab": {
          "base_uri": "https://localhost:8080/"
        },
        "id": "zRW2vvlSmeIw",
        "outputId": "c9d854b0-6ad0-409f-e140-df2108f100bd"
      },
      "execution_count": 56,
      "outputs": [
        {
          "output_type": "stream",
          "name": "stdout",
          "text": [
            "23.207421424505696\n"
          ]
        },
        {
          "output_type": "execute_result",
          "data": {
            "text/plain": [
              "array([[ -664.6555663 ],\n",
              "       [ -572.30266168],\n",
              "       [  -94.22451264],\n",
              "       ...,\n",
              "       [-1797.26175644],\n",
              "       [  -40.24304565],\n",
              "       [  -79.78540523]])"
            ]
          },
          "metadata": {},
          "execution_count": 56
        }
      ]
    }
  ]
}