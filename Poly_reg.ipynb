{
  "nbformat": 4,
  "nbformat_minor": 0,
  "metadata": {
    "colab": {
      "name": "Poly_reg.ipynb",
      "provenance": [],
      "collapsed_sections": []
    },
    "kernelspec": {
      "name": "python3",
      "display_name": "Python 3"
    },
    "language_info": {
      "name": "python"
    }
  },
  "cells": [
    {
      "cell_type": "code",
      "execution_count": null,
      "metadata": {
        "id": "hJsTUBALgY35"
      },
      "outputs": [],
      "source": [
        "import numpy as np\n",
        "import pandas as pd\n",
        "import matplotlib.pyplot as plt\n",
        "%matplotlib inline"
      ]
    },
    {
      "cell_type": "code",
      "source": [
        "def normalization(feature_value):\n",
        "  feature_value = np.array(feature_value)\n",
        "  value = (feature_value-np.mean(feature_value, axis=0))/np.std(feature_value, axis=0)\n",
        "  return value\n",
        "\n",
        "def Poly_Reg(X,y,lr,no_iter,data_set):\n",
        "  X = x_trans(data_set,2)\n",
        "  X = normalization(X)\n",
        "  m,n = X.shape\n",
        "  w = np.zeros((n,1))\n",
        "  b = 0\n",
        "  losses = []\n",
        "  for i in range(no_iter):\n",
        "\n",
        "    h_x = np.dot(X,w)+b\n",
        "    loss = cost(h_x,y)\n",
        "    dw = (1/m)*np.dot(X.T,(h_x-y))\n",
        "    db = (1/m)*np.sum(h_x-y)\n",
        "    w -= lr*dw\n",
        "    b -= lr*db\n",
        "    losses.append(loss)\n",
        "    if i%(no_iter/10)==0:\n",
        "      print('cost after ',i,' iterations is ',loss)\n",
        "  lst = [i for i in range(no_iter)]\n",
        "  w = w / (34.374)\n",
        "  plt.plot(lst,losses,'y')\n",
        "  plt.show()\n",
        "  return w,b\n",
        "def plot(X,y,h_x):\n",
        "  plt.plot(X, y, 'y.')\n",
        "  plt.xlabel('X - Input')\n",
        "  plt.ylabel('y - target / true')\n",
        "  plt.title('Polynomial Regression')\n",
        "  plt.show()\n",
        "def testing(w,b,Xtest):\n",
        "  ytest = np.dot(Xtest,w)+b\n",
        "  return ytest\n",
        "def cost(y_predicted, y_true):\n",
        "    m=y_predicted.shape[0]\n",
        "    value=np.sum((y_predicted-y_true)**2)\n",
        "    return np.sqrt((value)/(2*m))\n",
        "def x_trans(data_set, max_degree):\n",
        "  x = np.array(data_set[['X']])\n",
        "  y = np.array(data_set[['Y']])\n",
        "  z = np.array(data_set[['Z']])\n",
        "  data_set_array =np.empty(shape=(x.shape[0], len(deg_val)))\n",
        "  pos=0\n",
        "  for pwr in deg_val:\n",
        "      new_array = (x**(pwr[0]))*(y**(pwr[1]))*(z**(pwr[2]))\n",
        "      data_set_array[:,pos]=new_array.ravel()\n",
        "      pos+=1\n",
        "    \n",
        "  return data_set_array\n",
        "case=[]\n",
        "all_cases =  []\n",
        "def find_cases(value_sum, numb_features, all_cases=[]):\n",
        "    if numb_features == 1:\n",
        "        case.append(value_sum)\n",
        "        all_cases.append(case.copy())\n",
        "        case.pop()\n",
        "        return None\n",
        "    else:\n",
        "        for element_value in range(value_sum+1):\n",
        "            case.append(element_value)\n",
        "            find_cases(\n",
        "                value_sum-element_value, numb_features-1, all_cases)\n",
        "            case.pop()\n",
        "\n",
        "    return all_cases\n",
        "def all_powers(max_degree, numb_features):\n",
        "  deg_val = []\n",
        "  for degree in range(1, max_degree+1):\n",
        "      deg_val = find_cases(value_sum=degree, numb_features=numb_features)\n",
        "  return deg_val\n",
        "deg_val = all_powers(2,3)\n",
        "\n"
      ],
      "metadata": {
        "id": "j0KFx6UkgkuD"
      },
      "execution_count": null,
      "outputs": []
    },
    {
      "cell_type": "code",
      "source": [
        "df = pd.read_csv('Polynomial_train.csv',header = 0)\n",
        "df\n"
      ],
      "metadata": {
        "colab": {
          "base_uri": "https://localhost:8080/",
          "height": 423
        },
        "id": "Fcox0h6PSjpR",
        "outputId": "6b1f2fe2-15d8-44f6-e902-2babb89b4aab"
      },
      "execution_count": null,
      "outputs": [
        {
          "output_type": "execute_result",
          "data": {
            "text/plain": [
              "       Unnamed: 0         X         Y         Z        label\n",
              "0               0  0.643715 -9.866550 -5.836019   307.972927\n",
              "1               1 -1.366446 -3.761945 -8.756162   136.398375\n",
              "2               2 -4.090270 -1.836218 -1.846066  -310.724813\n",
              "3               3 -8.730478 -1.923651  3.892972     1.755447\n",
              "4               4  5.367169  0.358357  6.703989  -343.582590\n",
              "...           ...       ...       ...       ...          ...\n",
              "49995       49995  2.693877 -1.362685 -7.392968   683.405727\n",
              "49996       49996 -9.270188 -5.456920 -2.343480 -1874.385403\n",
              "49997       49997  6.616753 -2.847288 -0.504040   663.873655\n",
              "49998       49998  3.558199  4.507526 -4.823674  -421.004005\n",
              "49999       49999  0.623431  8.863234 -3.231040  -699.718682\n",
              "\n",
              "[50000 rows x 5 columns]"
            ],
            "text/html": [
              "\n",
              "  <div id=\"df-17ecb297-ad62-4567-bd1c-1b635b9fa8ae\">\n",
              "    <div class=\"colab-df-container\">\n",
              "      <div>\n",
              "<style scoped>\n",
              "    .dataframe tbody tr th:only-of-type {\n",
              "        vertical-align: middle;\n",
              "    }\n",
              "\n",
              "    .dataframe tbody tr th {\n",
              "        vertical-align: top;\n",
              "    }\n",
              "\n",
              "    .dataframe thead th {\n",
              "        text-align: right;\n",
              "    }\n",
              "</style>\n",
              "<table border=\"1\" class=\"dataframe\">\n",
              "  <thead>\n",
              "    <tr style=\"text-align: right;\">\n",
              "      <th></th>\n",
              "      <th>Unnamed: 0</th>\n",
              "      <th>X</th>\n",
              "      <th>Y</th>\n",
              "      <th>Z</th>\n",
              "      <th>label</th>\n",
              "    </tr>\n",
              "  </thead>\n",
              "  <tbody>\n",
              "    <tr>\n",
              "      <th>0</th>\n",
              "      <td>0</td>\n",
              "      <td>0.643715</td>\n",
              "      <td>-9.866550</td>\n",
              "      <td>-5.836019</td>\n",
              "      <td>307.972927</td>\n",
              "    </tr>\n",
              "    <tr>\n",
              "      <th>1</th>\n",
              "      <td>1</td>\n",
              "      <td>-1.366446</td>\n",
              "      <td>-3.761945</td>\n",
              "      <td>-8.756162</td>\n",
              "      <td>136.398375</td>\n",
              "    </tr>\n",
              "    <tr>\n",
              "      <th>2</th>\n",
              "      <td>2</td>\n",
              "      <td>-4.090270</td>\n",
              "      <td>-1.836218</td>\n",
              "      <td>-1.846066</td>\n",
              "      <td>-310.724813</td>\n",
              "    </tr>\n",
              "    <tr>\n",
              "      <th>3</th>\n",
              "      <td>3</td>\n",
              "      <td>-8.730478</td>\n",
              "      <td>-1.923651</td>\n",
              "      <td>3.892972</td>\n",
              "      <td>1.755447</td>\n",
              "    </tr>\n",
              "    <tr>\n",
              "      <th>4</th>\n",
              "      <td>4</td>\n",
              "      <td>5.367169</td>\n",
              "      <td>0.358357</td>\n",
              "      <td>6.703989</td>\n",
              "      <td>-343.582590</td>\n",
              "    </tr>\n",
              "    <tr>\n",
              "      <th>...</th>\n",
              "      <td>...</td>\n",
              "      <td>...</td>\n",
              "      <td>...</td>\n",
              "      <td>...</td>\n",
              "      <td>...</td>\n",
              "    </tr>\n",
              "    <tr>\n",
              "      <th>49995</th>\n",
              "      <td>49995</td>\n",
              "      <td>2.693877</td>\n",
              "      <td>-1.362685</td>\n",
              "      <td>-7.392968</td>\n",
              "      <td>683.405727</td>\n",
              "    </tr>\n",
              "    <tr>\n",
              "      <th>49996</th>\n",
              "      <td>49996</td>\n",
              "      <td>-9.270188</td>\n",
              "      <td>-5.456920</td>\n",
              "      <td>-2.343480</td>\n",
              "      <td>-1874.385403</td>\n",
              "    </tr>\n",
              "    <tr>\n",
              "      <th>49997</th>\n",
              "      <td>49997</td>\n",
              "      <td>6.616753</td>\n",
              "      <td>-2.847288</td>\n",
              "      <td>-0.504040</td>\n",
              "      <td>663.873655</td>\n",
              "    </tr>\n",
              "    <tr>\n",
              "      <th>49998</th>\n",
              "      <td>49998</td>\n",
              "      <td>3.558199</td>\n",
              "      <td>4.507526</td>\n",
              "      <td>-4.823674</td>\n",
              "      <td>-421.004005</td>\n",
              "    </tr>\n",
              "    <tr>\n",
              "      <th>49999</th>\n",
              "      <td>49999</td>\n",
              "      <td>0.623431</td>\n",
              "      <td>8.863234</td>\n",
              "      <td>-3.231040</td>\n",
              "      <td>-699.718682</td>\n",
              "    </tr>\n",
              "  </tbody>\n",
              "</table>\n",
              "<p>50000 rows × 5 columns</p>\n",
              "</div>\n",
              "      <button class=\"colab-df-convert\" onclick=\"convertToInteractive('df-17ecb297-ad62-4567-bd1c-1b635b9fa8ae')\"\n",
              "              title=\"Convert this dataframe to an interactive table.\"\n",
              "              style=\"display:none;\">\n",
              "        \n",
              "  <svg xmlns=\"http://www.w3.org/2000/svg\" height=\"24px\"viewBox=\"0 0 24 24\"\n",
              "       width=\"24px\">\n",
              "    <path d=\"M0 0h24v24H0V0z\" fill=\"none\"/>\n",
              "    <path d=\"M18.56 5.44l.94 2.06.94-2.06 2.06-.94-2.06-.94-.94-2.06-.94 2.06-2.06.94zm-11 1L8.5 8.5l.94-2.06 2.06-.94-2.06-.94L8.5 2.5l-.94 2.06-2.06.94zm10 10l.94 2.06.94-2.06 2.06-.94-2.06-.94-.94-2.06-.94 2.06-2.06.94z\"/><path d=\"M17.41 7.96l-1.37-1.37c-.4-.4-.92-.59-1.43-.59-.52 0-1.04.2-1.43.59L10.3 9.45l-7.72 7.72c-.78.78-.78 2.05 0 2.83L4 21.41c.39.39.9.59 1.41.59.51 0 1.02-.2 1.41-.59l7.78-7.78 2.81-2.81c.8-.78.8-2.07 0-2.86zM5.41 20L4 18.59l7.72-7.72 1.47 1.35L5.41 20z\"/>\n",
              "  </svg>\n",
              "      </button>\n",
              "      \n",
              "  <style>\n",
              "    .colab-df-container {\n",
              "      display:flex;\n",
              "      flex-wrap:wrap;\n",
              "      gap: 12px;\n",
              "    }\n",
              "\n",
              "    .colab-df-convert {\n",
              "      background-color: #E8F0FE;\n",
              "      border: none;\n",
              "      border-radius: 50%;\n",
              "      cursor: pointer;\n",
              "      display: none;\n",
              "      fill: #1967D2;\n",
              "      height: 32px;\n",
              "      padding: 0 0 0 0;\n",
              "      width: 32px;\n",
              "    }\n",
              "\n",
              "    .colab-df-convert:hover {\n",
              "      background-color: #E2EBFA;\n",
              "      box-shadow: 0px 1px 2px rgba(60, 64, 67, 0.3), 0px 1px 3px 1px rgba(60, 64, 67, 0.15);\n",
              "      fill: #174EA6;\n",
              "    }\n",
              "\n",
              "    [theme=dark] .colab-df-convert {\n",
              "      background-color: #3B4455;\n",
              "      fill: #D2E3FC;\n",
              "    }\n",
              "\n",
              "    [theme=dark] .colab-df-convert:hover {\n",
              "      background-color: #434B5C;\n",
              "      box-shadow: 0px 1px 3px 1px rgba(0, 0, 0, 0.15);\n",
              "      filter: drop-shadow(0px 1px 2px rgba(0, 0, 0, 0.3));\n",
              "      fill: #FFFFFF;\n",
              "    }\n",
              "  </style>\n",
              "\n",
              "      <script>\n",
              "        const buttonEl =\n",
              "          document.querySelector('#df-17ecb297-ad62-4567-bd1c-1b635b9fa8ae button.colab-df-convert');\n",
              "        buttonEl.style.display =\n",
              "          google.colab.kernel.accessAllowed ? 'block' : 'none';\n",
              "\n",
              "        async function convertToInteractive(key) {\n",
              "          const element = document.querySelector('#df-17ecb297-ad62-4567-bd1c-1b635b9fa8ae');\n",
              "          const dataTable =\n",
              "            await google.colab.kernel.invokeFunction('convertToInteractive',\n",
              "                                                     [key], {});\n",
              "          if (!dataTable) return;\n",
              "\n",
              "          const docLinkHtml = 'Like what you see? Visit the ' +\n",
              "            '<a target=\"_blank\" href=https://colab.research.google.com/notebooks/data_table.ipynb>data table notebook</a>'\n",
              "            + ' to learn more about interactive tables.';\n",
              "          element.innerHTML = '';\n",
              "          dataTable['output_type'] = 'display_data';\n",
              "          await google.colab.output.renderOutput(dataTable, element);\n",
              "          const docLink = document.createElement('div');\n",
              "          docLink.innerHTML = docLinkHtml;\n",
              "          element.appendChild(docLink);\n",
              "        }\n",
              "      </script>\n",
              "    </div>\n",
              "  </div>\n",
              "  "
            ]
          },
          "metadata": {},
          "execution_count": 3
        }
      ]
    },
    {
      "cell_type": "code",
      "source": [
        "X = np.array([df['X'],df['Y'],df['Z']])\n",
        "X = X.T\n",
        "X =normalization(X)\n"
      ],
      "metadata": {
        "id": "rcaomGLqSjfl"
      },
      "execution_count": null,
      "outputs": []
    },
    {
      "cell_type": "code",
      "source": [
        "y = np.array(df['label'])\n",
        "y = y.reshape(50000,1)\n",
        "y.shape"
      ],
      "metadata": {
        "id": "_MUkQZzqSjWF",
        "colab": {
          "base_uri": "https://localhost:8080/"
        },
        "outputId": "0cabbe52-509b-4e54-f4af-1007dda4cc17"
      },
      "execution_count": null,
      "outputs": [
        {
          "output_type": "execute_result",
          "data": {
            "text/plain": [
              "(50000, 1)"
            ]
          },
          "metadata": {},
          "execution_count": 5
        }
      ]
    },
    {
      "cell_type": "code",
      "source": [
        "w,b = Poly_Reg(X,y,0.01,10000,df)\n"
      ],
      "metadata": {
        "id": "ZVBkabbySkaW",
        "colab": {
          "base_uri": "https://localhost:8080/",
          "height": 450
        },
        "outputId": "4faa7e50-755d-4c78-8094-fe6fb6f8ff83"
      },
      "execution_count": null,
      "outputs": [
        {
          "output_type": "stream",
          "name": "stdout",
          "text": [
            "cost after  0  iterations is  852.6784617973497\n",
            "cost after  1000  iterations is  8.089132252357546\n",
            "cost after  2000  iterations is  8.089050035074068\n",
            "cost after  3000  iterations is  8.089050035073905\n",
            "cost after  4000  iterations is  8.089050035073905\n",
            "cost after  5000  iterations is  8.089050035073905\n",
            "cost after  6000  iterations is  8.089050035073905\n",
            "cost after  7000  iterations is  8.089050035073905\n",
            "cost after  8000  iterations is  8.089050035073905\n",
            "cost after  9000  iterations is  8.089050035073905\n"
          ]
        },
        {
          "output_type": "display_data",
          "data": {
            "text/plain": [
              "<Figure size 432x288 with 1 Axes>"
            ],
            "image/png": "[encoded data removed]"
          },
          "metadata": {
            "needs_background": "light"
          }
        }
      ]
    },
    {
      "cell_type": "code",
      "source": [
        "print(b)"
      ],
      "metadata": {
        "colab": {
          "base_uri": "https://localhost:8080/"
        },
        "id": "e_qs2GyGYxI8",
        "outputId": "ff34a122-5220-4f63-a38f-346436f5a710"
      },
      "execution_count": null,
      "outputs": [
        {
          "output_type": "stream",
          "name": "stdout",
          "text": [
            "13.257522118599473\n"
          ]
        }
      ]
    },
    {
      "cell_type": "code",
      "source": [
        "df1 = pd.read_csv('Polynomial_test.csv',header = 0)\n",
        "df1"
      ],
      "metadata": {
        "id": "U5p1e7wh3nZK",
        "colab": {
          "base_uri": "https://localhost:8080/",
          "height": 423
        },
        "outputId": "1683cf2c-4e01-4c03-e48c-0061a8b6cc82"
      },
      "execution_count": null,
      "outputs": [
        {
          "output_type": "execute_result",
          "data": {
            "text/plain": [
              "      Unnamed: 0         X         Y         Z        label\n",
              "0              0  9.322078  0.413096  5.984731  -657.669309\n",
              "1              1  2.811964  6.142752  6.419237  -545.362524\n",
              "2              2 -2.669784  7.775091 -6.931907   -75.044187\n",
              "3              3 -6.992156 -9.205548  0.852580 -2403.124902\n",
              "4              4  1.574294 -2.213266  6.029188     8.595325\n",
              "...          ...       ...       ...       ...          ...\n",
              "9995        9995 -0.992449 -7.853677  7.748156  -635.006038\n",
              "9996        9996  8.574451  6.271919 -5.734962 -1275.855209\n",
              "9997        9997  6.640997  6.864877  4.511685 -1771.640694\n",
              "9998        9998 -6.262414  1.323203 -3.917748   -22.746921\n",
              "9999        9999  8.289792 -0.371541  2.099039   -64.853446\n",
              "\n",
              "[10000 rows x 5 columns]"
            ],
            "text/html": [
              "\n",
              "  <div id=\"df-6b9f8d4d-d12e-4a22-bef8-557b1b3a9b73\">\n",
              "    <div class=\"colab-df-container\">\n",
              "      <div>\n",
              "<style scoped>\n",
              "    .dataframe tbody tr th:only-of-type {\n",
              "        vertical-align: middle;\n",
              "    }\n",
              "\n",
              "    .dataframe tbody tr th {\n",
              "        vertical-align: top;\n",
              "    }\n",
              "\n",
              "    .dataframe thead th {\n",
              "        text-align: right;\n",
              "    }\n",
              "</style>\n",
              "<table border=\"1\" class=\"dataframe\">\n",
              "  <thead>\n",
              "    <tr style=\"text-align: right;\">\n",
              "      <th></th>\n",
              "      <th>Unnamed: 0</th>\n",
              "      <th>X</th>\n",
              "      <th>Y</th>\n",
              "      <th>Z</th>\n",
              "      <th>label</th>\n",
              "    </tr>\n",
              "  </thead>\n",
              "  <tbody>\n",
              "    <tr>\n",
              "      <th>0</th>\n",
              "      <td>0</td>\n",
              "      <td>9.322078</td>\n",
              "      <td>0.413096</td>\n",
              "      <td>5.984731</td>\n",
              "      <td>-657.669309</td>\n",
              "    </tr>\n",
              "    <tr>\n",
              "      <th>1</th>\n",
              "      <td>1</td>\n",
              "      <td>2.811964</td>\n",
              "      <td>6.142752</td>\n",
              "      <td>6.419237</td>\n",
              "      <td>-545.362524</td>\n",
              "    </tr>\n",
              "    <tr>\n",
              "      <th>2</th>\n",
              "      <td>2</td>\n",
              "      <td>-2.669784</td>\n",
              "      <td>7.775091</td>\n",
              "      <td>-6.931907</td>\n",
              "      <td>-75.044187</td>\n",
              "    </tr>\n",
              "    <tr>\n",
              "      <th>3</th>\n",
              "      <td>3</td>\n",
              "      <td>-6.992156</td>\n",
              "      <td>-9.205548</td>\n",
              "      <td>0.852580</td>\n",
              "      <td>-2403.124902</td>\n",
              "    </tr>\n",
              "    <tr>\n",
              "      <th>4</th>\n",
              "      <td>4</td>\n",
              "      <td>1.574294</td>\n",
              "      <td>-2.213266</td>\n",
              "      <td>6.029188</td>\n",
              "      <td>8.595325</td>\n",
              "    </tr>\n",
              "    <tr>\n",
              "      <th>...</th>\n",
              "      <td>...</td>\n",
              "      <td>...</td>\n",
              "      <td>...</td>\n",
              "      <td>...</td>\n",
              "      <td>...</td>\n",
              "    </tr>\n",
              "    <tr>\n",
              "      <th>9995</th>\n",
              "      <td>9995</td>\n",
              "      <td>-0.992449</td>\n",
              "      <td>-7.853677</td>\n",
              "      <td>7.748156</td>\n",
              "      <td>-635.006038</td>\n",
              "    </tr>\n",
              "    <tr>\n",
              "      <th>9996</th>\n",
              "      <td>9996</td>\n",
              "      <td>8.574451</td>\n",
              "      <td>6.271919</td>\n",
              "      <td>-5.734962</td>\n",
              "      <td>-1275.855209</td>\n",
              "    </tr>\n",
              "    <tr>\n",
              "      <th>9997</th>\n",
              "      <td>9997</td>\n",
              "      <td>6.640997</td>\n",
              "      <td>6.864877</td>\n",
              "      <td>4.511685</td>\n",
              "      <td>-1771.640694</td>\n",
              "    </tr>\n",
              "    <tr>\n",
              "      <th>9998</th>\n",
              "      <td>9998</td>\n",
              "      <td>-6.262414</td>\n",
              "      <td>1.323203</td>\n",
              "      <td>-3.917748</td>\n",
              "      <td>-22.746921</td>\n",
              "    </tr>\n",
              "    <tr>\n",
              "      <th>9999</th>\n",
              "      <td>9999</td>\n",
              "      <td>8.289792</td>\n",
              "      <td>-0.371541</td>\n",
              "      <td>2.099039</td>\n",
              "      <td>-64.853446</td>\n",
              "    </tr>\n",
              "  </tbody>\n",
              "</table>\n",
              "<p>10000 rows × 5 columns</p>\n",
              "</div>\n",
              "      <button class=\"colab-df-convert\" onclick=\"convertToInteractive('df-6b9f8d4d-d12e-4a22-bef8-557b1b3a9b73')\"\n",
              "              title=\"Convert this dataframe to an interactive table.\"\n",
              "              style=\"display:none;\">\n",
              "        \n",
              "  <svg xmlns=\"http://www.w3.org/2000/svg\" height=\"24px\"viewBox=\"0 0 24 24\"\n",
              "       width=\"24px\">\n",
              "    <path d=\"M0 0h24v24H0V0z\" fill=\"none\"/>\n",
              "    <path d=\"M18.56 5.44l.94 2.06.94-2.06 2.06-.94-2.06-.94-.94-2.06-.94 2.06-2.06.94zm-11 1L8.5 8.5l.94-2.06 2.06-.94-2.06-.94L8.5 2.5l-.94 2.06-2.06.94zm10 10l.94 2.06.94-2.06 2.06-.94-2.06-.94-.94-2.06-.94 2.06-2.06.94z\"/><path d=\"M17.41 7.96l-1.37-1.37c-.4-.4-.92-.59-1.43-.59-.52 0-1.04.2-1.43.59L10.3 9.45l-7.72 7.72c-.78.78-.78 2.05 0 2.83L4 21.41c.39.39.9.59 1.41.59.51 0 1.02-.2 1.41-.59l7.78-7.78 2.81-2.81c.8-.78.8-2.07 0-2.86zM5.41 20L4 18.59l7.72-7.72 1.47 1.35L5.41 20z\"/>\n",
              "  </svg>\n",
              "      </button>\n",
              "      \n",
              "  <style>\n",
              "    .colab-df-container {\n",
              "      display:flex;\n",
              "      flex-wrap:wrap;\n",
              "      gap: 12px;\n",
              "    }\n",
              "\n",
              "    .colab-df-convert {\n",
              "      background-color: #E8F0FE;\n",
              "      border: none;\n",
              "      border-radius: 50%;\n",
              "      cursor: pointer;\n",
              "      display: none;\n",
              "      fill: #1967D2;\n",
              "      height: 32px;\n",
              "      padding: 0 0 0 0;\n",
              "      width: 32px;\n",
              "    }\n",
              "\n",
              "    .colab-df-convert:hover {\n",
              "      background-color: #E2EBFA;\n",
              "      box-shadow: 0px 1px 2px rgba(60, 64, 67, 0.3), 0px 1px 3px 1px rgba(60, 64, 67, 0.15);\n",
              "      fill: #174EA6;\n",
              "    }\n",
              "\n",
              "    [theme=dark] .colab-df-convert {\n",
              "      background-color: #3B4455;\n",
              "      fill: #D2E3FC;\n",
              "    }\n",
              "\n",
              "    [theme=dark] .colab-df-convert:hover {\n",
              "      background-color: #434B5C;\n",
              "      box-shadow: 0px 1px 3px 1px rgba(0, 0, 0, 0.15);\n",
              "      filter: drop-shadow(0px 1px 2px rgba(0, 0, 0, 0.3));\n",
              "      fill: #FFFFFF;\n",
              "    }\n",
              "  </style>\n",
              "\n",
              "      <script>\n",
              "        const buttonEl =\n",
              "          document.querySelector('#df-6b9f8d4d-d12e-4a22-bef8-557b1b3a9b73 button.colab-df-convert');\n",
              "        buttonEl.style.display =\n",
              "          google.colab.kernel.accessAllowed ? 'block' : 'none';\n",
              "\n",
              "        async function convertToInteractive(key) {\n",
              "          const element = document.querySelector('#df-6b9f8d4d-d12e-4a22-bef8-557b1b3a9b73');\n",
              "          const dataTable =\n",
              "            await google.colab.kernel.invokeFunction('convertToInteractive',\n",
              "                                                     [key], {});\n",
              "          if (!dataTable) return;\n",
              "\n",
              "          const docLinkHtml = 'Like what you see? Visit the ' +\n",
              "            '<a target=\"_blank\" href=https://colab.research.google.com/notebooks/data_table.ipynb>data table notebook</a>'\n",
              "            + ' to learn more about interactive tables.';\n",
              "          element.innerHTML = '';\n",
              "          dataTable['output_type'] = 'display_data';\n",
              "          await google.colab.output.renderOutput(dataTable, element);\n",
              "          const docLink = document.createElement('div');\n",
              "          docLink.innerHTML = docLinkHtml;\n",
              "          element.appendChild(docLink);\n",
              "        }\n",
              "      </script>\n",
              "    </div>\n",
              "  </div>\n",
              "  "
            ]
          },
          "metadata": {},
          "execution_count": 8
        }
      ]
    },
    {
      "cell_type": "code",
      "source": [
        "Xtest = np.array([df1['X'],df1['Y'],df1['Z']])\n",
        "Xtest = Xtest.T\n",
        "Xtest = (Xtest - X.mean(axis=0))/(np.std(X,axis=0))\n",
        "Xtest = x_trans(df1,2)\n",
        "Xtest.shape"
      ],
      "metadata": {
        "id": "UuNsHRdY4RSd",
        "colab": {
          "base_uri": "https://localhost:8080/"
        },
        "outputId": "ec9d21ad-31bb-47bc-bcd1-5c28d240a798"
      },
      "execution_count": null,
      "outputs": [
        {
          "output_type": "execute_result",
          "data": {
            "text/plain": [
              "(10000, 9)"
            ]
          },
          "metadata": {},
          "execution_count": 10
        }
      ]
    },
    {
      "cell_type": "code",
      "source": [
        "ypred = np.dot(Xtest,w)+b\n",
        "ypred"
      ],
      "metadata": {
        "id": "1egdMXO-4XyJ",
        "colab": {
          "base_uri": "https://localhost:8080/"
        },
        "outputId": "db895d61-4509-4863-ebf4-c1d85eca6e6d"
      },
      "execution_count": null,
      "outputs": [
        {
          "output_type": "execute_result",
          "data": {
            "text/plain": [
              "array([[ -644.16199388],\n",
              "       [ -513.23583024],\n",
              "       [  -51.98282507],\n",
              "       ...,\n",
              "       [-1691.39812121],\n",
              "       [  -16.75332002],\n",
              "       [  -54.51969796]])"
            ]
          },
          "metadata": {},
          "execution_count": 32
        }
      ]
    },
    {
      "cell_type": "code",
      "source": [
        "ytest = np.array(df1['label'])"
      ],
      "metadata": {
        "id": "Cxru4Zkf9WcC"
      },
      "execution_count": null,
      "outputs": []
    }
  ]
}